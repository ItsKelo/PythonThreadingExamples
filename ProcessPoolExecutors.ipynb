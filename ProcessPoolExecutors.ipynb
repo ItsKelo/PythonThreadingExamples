{
 "cells": [
  {
   "cell_type": "code",
   "execution_count": 1,
   "metadata": {},
   "outputs": [],
   "source": [
    "# ProcessPoolExecutor is the other subclass of Executor provided in the concurrent.futures module.\n",
    "# Whilst ThreadPoolExecutors are more suited to I/O bound tasks or network response bound tasks since they run tasks\n",
    "# in separate threads, ProcessPoolExecutors are more suited to CPU bound tasks, as they can run \n",
    "# each of their workers in its own separate child process, meaning that the issue where the GIL bottlenecks the program is avoided\n",
    "import concurrent.futures\n",
    "import time\n",
    "from datetime import datetime\n",
    "numbers = [5, 6, 7, 8, \n",
    "           9, 10, 11, 12,\n",
    "           13, 14, 15, 16]"
   ]
  },
  {
   "cell_type": "code",
   "execution_count": 2,
   "metadata": {},
   "outputs": [],
   "source": [
    "def recursive_factorial(n):\n",
    "    time.sleep(0.5)\n",
    "    if n == 1:\n",
    "       return n\n",
    "    elif n < 1:\n",
    "       return (\"NA\")\n",
    "    else:\n",
    "       return n*recursive_factorial(n-1)"
   ]
  },
  {
   "cell_type": "code",
   "execution_count": 3,
   "metadata": {},
   "outputs": [
    {
     "name": "stdout",
     "output_type": "stream",
     "text": [
      "Sequential\n",
      "Factorial of 5: 120\n",
      "Factorial of 6: 720\n",
      "Factorial of 7: 5040\n",
      "Factorial of 8: 40320\n",
      "Factorial of 9: 362880\n",
      "Factorial of 10: 3628800\n",
      "Factorial of 11: 39916800\n",
      "Factorial of 12: 479001600\n",
      "Factorial of 13: 6227020800\n",
      "Factorial of 14: 87178291200\n",
      "Factorial of 15: 1307674368000\n",
      "Factorial of 16: 20922789888000\n",
      "Time Taken: 0:01:03.348261\n",
      "\n",
      "Concurrent\n",
      "Factorial of 5: 120\n",
      "Factorial of 6: 720\n",
      "Factorial of 7: 5040\n",
      "Factorial of 8: 40320\n",
      "Factorial of 9: 362880\n",
      "Factorial of 10: 3628800\n",
      "Factorial of 11: 39916800\n",
      "Factorial of 12: 479001600\n",
      "Factorial of 13: 6227020800\n",
      "Factorial of 14: 87178291200\n",
      "Factorial of 15: 1307674368000\n",
      "Factorial of 16: 20922789888000\n",
      "Time Taken: 0:00:18.060666\n"
     ]
    }
   ],
   "source": [
    "def main():\n",
    "    print(\"Sequential\")\n",
    "    sequential_start_time = datetime.now()\n",
    "    for num in numbers:\n",
    "        print('Factorial of %d: %d' % (num, recursive_factorial(num)))\n",
    "    sequential_end_time = datetime.now()\n",
    "    print(\"Time Taken:\", sequential_end_time - sequential_start_time)\n",
    "    \n",
    "    print(\"\\nConcurrent\")\n",
    "    with concurrent.futures.ProcessPoolExecutor() as executor:\n",
    "        concurrent_start_time = datetime.now()\n",
    "        for factorial, integer in zip(numbers, executor.map(recursive_factorial, numbers)):\n",
    "            print('Factorial of %d: %d' % (factorial, integer))\n",
    "        concurrent_end_time = datetime.now()\n",
    "        print(\"Time Taken:\", concurrent_end_time - concurrent_start_time)\n",
    "\n",
    "if __name__ == '__main__':\n",
    "    main()"
   ]
  },
  {
   "cell_type": "code",
   "execution_count": null,
   "metadata": {},
   "outputs": [],
   "source": []
  }
 ],
 "metadata": {
  "kernelspec": {
   "display_name": "Python 3",
   "language": "python",
   "name": "python3"
  },
  "language_info": {
   "codemirror_mode": {
    "name": "ipython",
    "version": 3
   },
   "file_extension": ".py",
   "mimetype": "text/x-python",
   "name": "python",
   "nbconvert_exporter": "python",
   "pygments_lexer": "ipython3",
   "version": "3.6.10"
  }
 },
 "nbformat": 4,
 "nbformat_minor": 4
}
