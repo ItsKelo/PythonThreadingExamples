{
 "cells": [
  {
   "cell_type": "code",
   "execution_count": 1,
   "metadata": {},
   "outputs": [],
   "source": [
    "# This tutorial will cover the Executor methods, ThreadPoolExecutors and concurrent.futures module methods.\n",
    "\n",
    "from concurrent.futures import ThreadPoolExecutor \n",
    "import concurrent.futures\n",
    "from datetime import datetime\n",
    "import time"
   ]
  },
  {
   "cell_type": "code",
   "execution_count": 2,
   "metadata": {},
   "outputs": [],
   "source": [
    "# Variables\n",
    "x_list = [5, 6, 7, 8] # List of x values"
   ]
  },
  {
   "cell_type": "code",
   "execution_count": 3,
   "metadata": {},
   "outputs": [],
   "source": [
    "# Function to return x to the power y, with a delay of 5 seconds.\n",
    "def power(x, y):\n",
    "    time.sleep(5)\n",
    "    return pow(x, y)"
   ]
  },
  {
   "cell_type": "code",
   "execution_count": 4,
   "metadata": {},
   "outputs": [
    {
     "name": "stdout",
     "output_type": "stream",
     "text": [
      "25\n"
     ]
    }
   ],
   "source": [
    "# First we'll look at the the methods offered by the abstract Executor class.\n",
    "# This needs to be in the form of one of it's subclasses (such as ThreadPoolExecutor)\n",
    "# submit(fn, *args, **kwargs) - This method is used to schedule tasks on the Executor. Returns a future object.\n",
    "executor = ThreadPoolExecutor(max_workers=1) # Make a ThreadPoolExecutor object with 1 worker (This won't run the program concurrently as there will only be 1 worker thread)\n",
    "future = executor.submit(power, 5, 2) # Submit the task of power(5,2) to the ThreadPoolExecutor\n",
    "print(future.result()) # the result() method of a future is used to get the value once the future as finished executing"
   ]
  },
  {
   "cell_type": "code",
   "execution_count": 5,
   "metadata": {},
   "outputs": [],
   "source": [
    "# Function to double a number\n",
    "def double_func(x):\n",
    "    time.sleep(5)\n",
    "    return x*2"
   ]
  },
  {
   "cell_type": "code",
   "execution_count": 6,
   "metadata": {},
   "outputs": [
    {
     "name": "stdout",
     "output_type": "stream",
     "text": [
      "0\n",
      "2\n",
      "4\n",
      "6\n",
      "8\n",
      "10\n",
      "12\n",
      "14\n",
      "16\n",
      "18\n"
     ]
    }
   ],
   "source": [
    "# map(fn, *iterables, timeout=None, chunksize=1) - This method is used to schedule the function to each of the values\n",
    "# in the iterable. Returns an iterable instead of a future.\n",
    "executor = ThreadPoolExecutor(max_workers=1)\n",
    "s = range(10)\n",
    "for i in executor.map(double_func, s):\n",
    "    print(i)\n"
   ]
  },
  {
   "cell_type": "code",
   "execution_count": 7,
   "metadata": {},
   "outputs": [
    {
     "name": "stdout",
     "output_type": "stream",
     "text": [
      "Waiting for all tasks to finish before progressing in the program.\n",
      "4\n",
      "9\n",
      "16\n"
     ]
    }
   ],
   "source": [
    "# shutdown(wait) - signals to the executor that it should free up any resources it currently has once pending\n",
    "# tasks are completed. The wait parameter basically allows you to wait for all the resources to be returned before\n",
    "# continuing in your program or to just continue on anyway. \n",
    "# If wait == True, then the method will not return until ALL the pending tasks have been completed. \n",
    "# If wait == False, then the executor will immediately return. (Pending tasks will still be completed)\n",
    "executor = ThreadPoolExecutor(max_workers=1)\n",
    "task_A = executor.submit(power, 2, 2)\n",
    "task_B = executor.submit(power, 3, 2)\n",
    "task_C = executor.submit(power, 4, 2)\n",
    "\n",
    "print(\"Waiting for all tasks to finish before progressing in the program.\")\n",
    "executor.shutdown(True)\n",
    "\n",
    "# All of these results should appear at the same time.\n",
    "print(task_A.result())\n",
    "print(task_B.result())\n",
    "print(task_C.result())"
   ]
  },
  {
   "cell_type": "code",
   "execution_count": 8,
   "metadata": {},
   "outputs": [],
   "source": [
    "# Function to return the results of the submitted tasks to the executor.\n",
    "def results_of_tasks(future_to_power):\n",
    "    for future in future_to_power: # For each future\n",
    "        print(future.result()) # Return the result of the task once it has been completed"
   ]
  },
  {
   "cell_type": "code",
   "execution_count": 9,
   "metadata": {},
   "outputs": [
    {
     "name": "stdout",
     "output_type": "stream",
     "text": [
      "25\n",
      "36\n",
      "49\n",
      "64\n",
      "Time Taken: 0:00:20.018656\n"
     ]
    }
   ],
   "source": [
    "# Now we'll observe how the program would run without multi-threading. Using 1 worker will simulate this.\n",
    "executor = ThreadPoolExecutor(max_workers=1)\n",
    "start_time = datetime.now()\n",
    "future_to_power = {executor.submit(power, x, 2): x for x in x_list} # Get a list of futures from the submitted tasks to the executor\n",
    "results_of_tasks(future_to_power)\n",
    "\n",
    "end_time = datetime.now()\n",
    "print(\"Time Taken:\", end_time - start_time)"
   ]
  },
  {
   "cell_type": "code",
   "execution_count": 10,
   "metadata": {},
   "outputs": [],
   "source": [
    "# As you saw, the results come in one at a time, quite slowly. However, if we increase the number of worker threads\n",
    "# to equal the number of tasks we're submitting to the ThreadPoolExecutor, the time taken to get all our results back will be \n",
    "# smaller."
   ]
  },
  {
   "cell_type": "code",
   "execution_count": 11,
   "metadata": {
    "scrolled": true
   },
   "outputs": [
    {
     "name": "stdout",
     "output_type": "stream",
     "text": [
      "25\n",
      "36\n",
      "49\n",
      "64\n",
      "Time Taken: 0:00:05.014428\n"
     ]
    }
   ],
   "source": [
    "executor = ThreadPoolExecutor(max_workers=4) # Declare the executor with a maximum of 4 worker threads.\n",
    "start_time = datetime.now()\n",
    "future_to_power = {executor.submit(power, x, 2): x for x in x_list} # Get a list of futures from the submitted tasks to the executor\n",
    "results_of_tasks(future_to_power)\n",
    " \n",
    "end_time = datetime.now()\n",
    "print(\"Time Taken:\", end_time - start_time)"
   ]
  },
  {
   "cell_type": "code",
   "execution_count": 12,
   "metadata": {},
   "outputs": [],
   "source": [
    "# This is a quicker method since each worker thread is processing each of the tasks simultaneously. Each time.sleep(5)\n",
    "# is being awaited in the same instance of time. Another example may be more clear."
   ]
  },
  {
   "cell_type": "code",
   "execution_count": 13,
   "metadata": {},
   "outputs": [
    {
     "name": "stdout",
     "output_type": "stream",
     "text": [
      "25\n",
      "36\n",
      "49\n",
      "64\n",
      "Time Taken: 0:00:10.019446\n"
     ]
    }
   ],
   "source": [
    "# In this example, we'll half the amount of worker threads assigned to the thread pool. \n",
    "# This means that each worker thread will have 2 tasks to work through, so it'll take double the amount of time than before\n",
    "executor = ThreadPoolExecutor(max_workers=2) # Declare the executor with a maximum of 2 worker threads.\n",
    "start_time = datetime.now()\n",
    "future_to_power = {executor.submit(power, x, 2): x for x in x_list} # Get a list of futures from the submitted tasks to the executor\n",
    "results_of_tasks(future_to_power)\n",
    "\n",
    "end_time = datetime.now()\n",
    "print(\"Time Taken:\", end_time - start_time)"
   ]
  },
  {
   "cell_type": "code",
   "execution_count": 14,
   "metadata": {},
   "outputs": [
    {
     "name": "stdout",
     "output_type": "stream",
     "text": [
      "DoneAndNotDoneFutures(done={<Future at 0x10a072400 state=finished returned int>, <Future at 0x10a048e10 state=finished returned int>, <Future at 0x10a072cc0 state=finished returned int>}, not_done={<Future at 0x10a072f98 state=running>})\n",
      "25\n",
      "36\n",
      "49\n",
      "64\n"
     ]
    }
   ],
   "source": [
    "# Now we'll look at the concurrent.futures module methods\n",
    "# wait(fs, timeout=None, return_when=ALL_COMPLETED) - This is used to wait for the future instances and can be returned\n",
    "# at different points : FIRST_COMPLETED (when any future finishes) \n",
    "# or FIRST_EXCEPTION (when any future finishes by raising an exception)\n",
    "# or ALL_COMPLETED (when all futures are finished)\n",
    "# Returns a tuple of done and not done futures, containing the states of execution of each future.\n",
    "executor = ThreadPoolExecutor(max_workers=4) # Declare the executor with a maximum of 4 worker threads.\n",
    "future_to_power = {executor.submit(power, x, 2): x for x in x_list} # Get a list of futures from the submitted tasks to the executor\n",
    "print(concurrent.futures.wait(future_to_power, return_when='FIRST_COMPLETED'))\n",
    "results_of_tasks(future_to_power)\n"
   ]
  },
  {
   "cell_type": "code",
   "execution_count": 15,
   "metadata": {},
   "outputs": [
    {
     "name": "stdout",
     "output_type": "stream",
     "text": [
      "25\n",
      "36\n",
      "49\n",
      "64\n"
     ]
    }
   ],
   "source": [
    "# as_completed(fs, timeout=None) - Returns an iterator over the future instances. Futures appear in the iterator \n",
    "# as they are completed. This function will not care about the order of which the callables where submitted.\n",
    "executor = ThreadPoolExecutor(max_workers=4) # Declare the executor with a maximum of 4 worker threads.\n",
    "future_to_power = {executor.submit(power, x, 2): x for x in x_list} # Get a list of futures from the submitted tasks to the executor\n",
    "for future in concurrent.futures.as_completed(future_to_power):\n",
    "    print(future.result())"
   ]
  }
 ],
 "metadata": {
  "kernelspec": {
   "display_name": "Python 3",
   "language": "python",
   "name": "python3"
  },
  "language_info": {
   "codemirror_mode": {
    "name": "ipython",
    "version": 3
   },
   "file_extension": ".py",
   "mimetype": "text/x-python",
   "name": "python",
   "nbconvert_exporter": "python",
   "pygments_lexer": "ipython3",
   "version": "3.6.10"
  }
 },
 "nbformat": 4,
 "nbformat_minor": 4
}
