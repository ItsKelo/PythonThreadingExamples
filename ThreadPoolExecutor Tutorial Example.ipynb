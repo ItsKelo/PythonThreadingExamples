{
 "cells": [
  {
   "cell_type": "code",
   "execution_count": 38,
   "metadata": {},
   "outputs": [],
   "source": [
    "# import the ThreadPoolExecutor from concurrent.futures package\n",
    "from concurrent.futures import ThreadPoolExecutor\n",
    "import time"
   ]
  },
  {
   "cell_type": "code",
   "execution_count": 39,
   "metadata": {},
   "outputs": [],
   "source": [
    "# Variables\n",
    "x_list = [5, 6, 7, 8] # List of x values"
   ]
  },
  {
   "cell_type": "code",
   "execution_count": 40,
   "metadata": {},
   "outputs": [],
   "source": [
    "# Function to return x to the power y, with a delay of 5 seconds.\n",
    "def power(x, y):\n",
    "    time.sleep(5)\n",
    "    return pow(x, y)"
   ]
  },
  {
   "cell_type": "code",
   "execution_count": 41,
   "metadata": {},
   "outputs": [],
   "source": [
    "# Function to return the results of the submitted tasks to the executor.\n",
    "def results_of_tasks(future_to_power):\n",
    "    for future in future_to_power: # For each future\n",
    "        print(future.result()) # Return the result of the task once it has been completed"
   ]
  },
  {
   "cell_type": "code",
   "execution_count": 43,
   "metadata": {},
   "outputs": [
    {
     "name": "stdout",
     "output_type": "stream",
     "text": [
      "25\n",
      "36\n",
      "49\n",
      "64\n"
     ]
    }
   ],
   "source": [
    "# First we'll observe how the program would run without multi-threading. Using 1 worker will simulate this.\n",
    "executor = ThreadPoolExecutor(max_workers=1)\n",
    "future_to_power = {executor.submit(power, x, 2): x for x in x_list} # Get a list of futures from the submitted tasks to the executor\n",
    "results_of_tasks(future_to_power)"
   ]
  },
  {
   "cell_type": "code",
   "execution_count": null,
   "metadata": {},
   "outputs": [],
   "source": [
    "# As you saw, the results come in one at a time, quite slowly. However, if we increase the number of worker threads\n",
    "# to equal the number of tasks we're submitting to the executor, the time taken to get all our results back will be \n",
    "# smaller."
   ]
  },
  {
   "cell_type": "code",
   "execution_count": 44,
   "metadata": {
    "scrolled": true
   },
   "outputs": [
    {
     "name": "stdout",
     "output_type": "stream",
     "text": [
      "25\n",
      "36\n",
      "49\n",
      "64\n"
     ]
    }
   ],
   "source": [
    "executor = ThreadPoolExecutor(max_workers=4) # Declare the executor with a maximum of 4 worker threads.\n",
    "future_to_power = {executor.submit(power, x, 2): x for x in x_list} # Get a list of futures from the submitted tasks to the executor\n",
    "results_of_tasks(future_to_power)"
   ]
  },
  {
   "cell_type": "code",
   "execution_count": 45,
   "metadata": {},
   "outputs": [],
   "source": [
    "# This is a quicker method since each worker thread is processing each of the tasks simultaneously. Each time.sleep(5)\n",
    "# is being awaited in the same instance of time. Another example may be more clear."
   ]
  },
  {
   "cell_type": "code",
   "execution_count": 48,
   "metadata": {},
   "outputs": [
    {
     "name": "stdout",
     "output_type": "stream",
     "text": [
      "25\n",
      "36\n",
      "49\n",
      "64\n"
     ]
    }
   ],
   "source": [
    "# In this example, we'll half the amount of worker threads assigned to the thread pool. \n",
    "# This means that each worker thread will have 2 tasks to work through, so it'll take double the amount of time than before\n",
    "executor = ThreadPoolExecutor(max_workers=2) # Declare the executor with a maximum of 2 worker threads.\n",
    "future_to_power = {executor.submit(power, x, 2): x for x in x_list} # Get a list of futures from the submitted tasks to the executor\n",
    "results_of_tasks(future_to_power)"
   ]
  },
  {
   "cell_type": "code",
   "execution_count": null,
   "metadata": {},
   "outputs": [],
   "source": []
  }
 ],
 "metadata": {
  "kernelspec": {
   "display_name": "Python 3",
   "language": "python",
   "name": "python3"
  },
  "language_info": {
   "codemirror_mode": {
    "name": "ipython",
    "version": 3
   },
   "file_extension": ".py",
   "mimetype": "text/x-python",
   "name": "python",
   "nbconvert_exporter": "python",
   "pygments_lexer": "ipython3",
   "version": "3.6.10"
  }
 },
 "nbformat": 4,
 "nbformat_minor": 4
}
